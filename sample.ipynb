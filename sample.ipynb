{
  "cells": [
    {
      "cell_type": "markdown",
      "metadata": {
        "id": "dSa7z981KDwm"
      },
      "source": [
        "# Sample Code"
      ],
      "id": "dSa7z981KDwm"
    },
    {
      "cell_type": "markdown",
      "metadata": {
        "id": "KpvJ2uGkKDwq"
      },
      "source": [
        "## 基礎建設"
      ],
      "id": "KpvJ2uGkKDwq"
    },
    {
      "cell_type": "code",
      "execution_count": 1,
      "metadata": {
        "scrolled": true,
        "id": "ZCJnOUwVKDwr"
      },
      "outputs": [],
      "source": [
        "import pandas as pd\n",
        "import gzip, json\n",
        "\n",
        "def parse(path):\n",
        "    g = gzip.open(path, 'rb')\n",
        "    for l in g:\n",
        "        yield json.loads(l)\n",
        "\n",
        "def getDF(path):\n",
        "    i = 0\n",
        "    df = {}\n",
        "    for d in parse(path):\n",
        "        df[i] = d\n",
        "        i += 1\n",
        "    return pd.DataFrame.from_dict(df, orient='index')"
      ],
      "id": "ZCJnOUwVKDwr"
    },
    {
      "cell_type": "markdown",
      "metadata": {
        "id": "FpbAYFvRKDwt"
      },
      "source": [
        "## 載入資料"
      ],
      "id": "FpbAYFvRKDwt"
    },
    {
      "cell_type": "code",
      "execution_count": 2,
      "metadata": {
        "colab": {
          "base_uri": "https://localhost:8080/"
        },
        "id": "YkyB8p6bKDwu",
        "outputId": "366c7af7-b59a-4bd4-e85d-71746f3f5e84"
      },
      "outputs": [
        {
          "output_type": "stream",
          "name": "stdout",
          "text": [
            "--2021-12-26 11:25:01--  http://deepyeti.ucsd.edu/jianmo/amazon/categoryFilesSmall/All_Beauty.csv\n",
            "Resolving deepyeti.ucsd.edu (deepyeti.ucsd.edu)... 169.228.63.50\n",
            "Connecting to deepyeti.ucsd.edu (deepyeti.ucsd.edu)|169.228.63.50|:80... connected.\n",
            "HTTP request sent, awaiting response... 200 OK\n",
            "Length: 15499476 (15M) [application/octet-stream]\n",
            "Saving to: ‘All_Beauty.csv’\n",
            "\n",
            "All_Beauty.csv      100%[===================>]  14.78M  19.0MB/s    in 0.8s    \n",
            "\n",
            "2021-12-26 11:25:02 (19.0 MB/s) - ‘All_Beauty.csv’ saved [15499476/15499476]\n",
            "\n",
            "--2021-12-26 11:25:02--  http://deepyeti.ucsd.edu/jianmo/amazon/metaFiles2/meta_All_Beauty.json.gz\n",
            "Resolving deepyeti.ucsd.edu (deepyeti.ucsd.edu)... 169.228.63.50\n",
            "Connecting to deepyeti.ucsd.edu (deepyeti.ucsd.edu)|169.228.63.50|:80... connected.\n",
            "HTTP request sent, awaiting response... 200 OK\n",
            "Length: 10329961 (9.9M) [application/octet-stream]\n",
            "Saving to: ‘meta_All_Beauty.json.gz’\n",
            "\n",
            "meta_All_Beauty.jso 100%[===================>]   9.85M  15.1MB/s    in 0.7s    \n",
            "\n",
            "2021-12-26 11:25:03 (15.1 MB/s) - ‘meta_All_Beauty.json.gz’ saved [10329961/10329961]\n",
            "\n"
          ]
        }
      ],
      "source": [
        "!wget http://deepyeti.ucsd.edu/jianmo/amazon/categoryFilesSmall/All_Beauty.csv\n",
        "!wget http://deepyeti.ucsd.edu/jianmo/amazon/metaFiles2/meta_All_Beauty.json.gz"
      ],
      "id": "YkyB8p6bKDwu"
    },
    {
      "cell_type": "code",
      "execution_count": 3,
      "metadata": {
        "id": "bQDcV4vLKDwu"
      },
      "outputs": [],
      "source": [
        "metadata = getDF('/content/meta_All_Beauty.json.gz')\n",
        "ratings = pd.read_csv('/content/All_Beauty.csv', names=['asin', 'reviewerID', 'overall', 'unixReviewTime'], header=None)"
      ],
      "id": "bQDcV4vLKDwu"
    },
    {
      "cell_type": "code",
      "execution_count": 88,
      "metadata": {
        "colab": {
          "base_uri": "https://localhost:8080/",
          "height": 669
        },
        "id": "0FRn-pgQKDwv",
        "outputId": "0a5af393-9b6b-4755-b534-c54490d6d32d"
      },
      "outputs": [
        {
          "output_type": "execute_result",
          "data": {
            "text/html": [
              "\n",
              "  <div id=\"df-a5a55425-6bed-4cef-9427-02c8ac9e19ab\">\n",
              "    <div class=\"colab-df-container\">\n",
              "      <div>\n",
              "<style scoped>\n",
              "    .dataframe tbody tr th:only-of-type {\n",
              "        vertical-align: middle;\n",
              "    }\n",
              "\n",
              "    .dataframe tbody tr th {\n",
              "        vertical-align: top;\n",
              "    }\n",
              "\n",
              "    .dataframe thead th {\n",
              "        text-align: right;\n",
              "    }\n",
              "</style>\n",
              "<table border=\"1\" class=\"dataframe\">\n",
              "  <thead>\n",
              "    <tr style=\"text-align: right;\">\n",
              "      <th></th>\n",
              "      <th>category</th>\n",
              "      <th>tech1</th>\n",
              "      <th>description</th>\n",
              "      <th>fit</th>\n",
              "      <th>title</th>\n",
              "      <th>also_buy</th>\n",
              "      <th>tech2</th>\n",
              "      <th>brand</th>\n",
              "      <th>feature</th>\n",
              "      <th>rank</th>\n",
              "      <th>also_view</th>\n",
              "      <th>details</th>\n",
              "      <th>main_cat</th>\n",
              "      <th>similar_item</th>\n",
              "      <th>date</th>\n",
              "      <th>price</th>\n",
              "      <th>asin</th>\n",
              "      <th>imageURL</th>\n",
              "      <th>imageURLHighRes</th>\n",
              "      <th>rankNumber</th>\n",
              "    </tr>\n",
              "  </thead>\n",
              "  <tbody>\n",
              "    <tr>\n",
              "      <th>0</th>\n",
              "      <td>[]</td>\n",
              "      <td></td>\n",
              "      <td>[Loud 'N Clear Personal Sound Amplifier allows...</td>\n",
              "      <td></td>\n",
              "      <td>Loud 'N Clear&amp;trade; Personal Sound Amplifier</td>\n",
              "      <td>[]</td>\n",
              "      <td></td>\n",
              "      <td>idea village</td>\n",
              "      <td>[]</td>\n",
              "      <td>2,938,573 in Beauty &amp; Personal Care (</td>\n",
              "      <td>[]</td>\n",
              "      <td>{'ASIN: ': '6546546450'}</td>\n",
              "      <td>All Beauty</td>\n",
              "      <td></td>\n",
              "      <td></td>\n",
              "      <td></td>\n",
              "      <td>6546546450</td>\n",
              "      <td>[]</td>\n",
              "      <td>[]</td>\n",
              "      <td>2938573.0</td>\n",
              "    </tr>\n",
              "    <tr>\n",
              "      <th>1</th>\n",
              "      <td>[]</td>\n",
              "      <td></td>\n",
              "      <td>[No7 Lift &amp; Luminate Triple Action Serum 50ml ...</td>\n",
              "      <td></td>\n",
              "      <td>No7 Lift &amp;amp; Luminate Triple Action Serum 50...</td>\n",
              "      <td>[B01E7LCSL6, B008X5RVME]</td>\n",
              "      <td></td>\n",
              "      <td></td>\n",
              "      <td>[]</td>\n",
              "      <td>872,854 in Beauty &amp; Personal Care (</td>\n",
              "      <td>[]</td>\n",
              "      <td>{'Shipping Weight:': '0.3 ounces (', 'ASIN: ':...</td>\n",
              "      <td>All Beauty</td>\n",
              "      <td>class=\"a-bordered a-horizontal-stripes  a-spa...</td>\n",
              "      <td></td>\n",
              "      <td>$44.99</td>\n",
              "      <td>7178680776</td>\n",
              "      <td>[]</td>\n",
              "      <td>[]</td>\n",
              "      <td>872854.0</td>\n",
              "    </tr>\n",
              "    <tr>\n",
              "      <th>2</th>\n",
              "      <td>[]</td>\n",
              "      <td></td>\n",
              "      <td>[No7 Stay Perfect Foundation now stays perfect...</td>\n",
              "      <td></td>\n",
              "      <td>No7 Stay Perfect Foundation Cool Vanilla by No7</td>\n",
              "      <td>[]</td>\n",
              "      <td></td>\n",
              "      <td>No7</td>\n",
              "      <td>[]</td>\n",
              "      <td>956,696 in Beauty &amp; Personal Care (</td>\n",
              "      <td>[B01B8BR0O8, B01B8BR0NO, B014MHXXM8]</td>\n",
              "      <td>{'Shipping Weight:': '3.5 ounces (', 'ASIN: ':...</td>\n",
              "      <td>All Beauty</td>\n",
              "      <td></td>\n",
              "      <td></td>\n",
              "      <td>$28.76</td>\n",
              "      <td>7250468162</td>\n",
              "      <td>[]</td>\n",
              "      <td>[]</td>\n",
              "      <td>956696.0</td>\n",
              "    </tr>\n",
              "    <tr>\n",
              "      <th>3</th>\n",
              "      <td>[]</td>\n",
              "      <td></td>\n",
              "      <td>[]</td>\n",
              "      <td></td>\n",
              "      <td>Wella Koleston Perfect Hair Colour 44/44 Mediu...</td>\n",
              "      <td>[B0041PBXX8]</td>\n",
              "      <td></td>\n",
              "      <td></td>\n",
              "      <td>[]</td>\n",
              "      <td>1,870,258 in Beauty &amp; Personal Care (</td>\n",
              "      <td>[]</td>\n",
              "      <td>{'\n",
              "    Item Weight: \n",
              "    ': '1.76 ounces', 'Sh...</td>\n",
              "      <td>All Beauty</td>\n",
              "      <td></td>\n",
              "      <td></td>\n",
              "      <td></td>\n",
              "      <td>7367905066</td>\n",
              "      <td>[https://images-na.ssl-images-amazon.com/image...</td>\n",
              "      <td>[https://images-na.ssl-images-amazon.com/image...</td>\n",
              "      <td>1870258.0</td>\n",
              "    </tr>\n",
              "    <tr>\n",
              "      <th>4</th>\n",
              "      <td>[]</td>\n",
              "      <td></td>\n",
              "      <td>[Lacto Calamine Skin Balance Daily Nourishing ...</td>\n",
              "      <td></td>\n",
              "      <td>Lacto Calamine Skin Balance Oil control 120 ml...</td>\n",
              "      <td>[]</td>\n",
              "      <td></td>\n",
              "      <td>Pirmal Healthcare</td>\n",
              "      <td>[]</td>\n",
              "      <td>67,701 in Beauty &amp; Personal Care (</td>\n",
              "      <td>[3254895630, B007VL1D9S, B00EH9A0RI, B0773MBG4...</td>\n",
              "      <td>{'Shipping Weight:': '12 ounces (', 'ASIN: ': ...</td>\n",
              "      <td>All Beauty</td>\n",
              "      <td></td>\n",
              "      <td></td>\n",
              "      <td>$12.15</td>\n",
              "      <td>7414204790</td>\n",
              "      <td>[https://images-na.ssl-images-amazon.com/image...</td>\n",
              "      <td>[https://images-na.ssl-images-amazon.com/image...</td>\n",
              "      <td>67701.0</td>\n",
              "    </tr>\n",
              "  </tbody>\n",
              "</table>\n",
              "</div>\n",
              "      <button class=\"colab-df-convert\" onclick=\"convertToInteractive('df-a5a55425-6bed-4cef-9427-02c8ac9e19ab')\"\n",
              "              title=\"Convert this dataframe to an interactive table.\"\n",
              "              style=\"display:none;\">\n",
              "        \n",
              "  <svg xmlns=\"http://www.w3.org/2000/svg\" height=\"24px\"viewBox=\"0 0 24 24\"\n",
              "       width=\"24px\">\n",
              "    <path d=\"M0 0h24v24H0V0z\" fill=\"none\"/>\n",
              "    <path d=\"M18.56 5.44l.94 2.06.94-2.06 2.06-.94-2.06-.94-.94-2.06-.94 2.06-2.06.94zm-11 1L8.5 8.5l.94-2.06 2.06-.94-2.06-.94L8.5 2.5l-.94 2.06-2.06.94zm10 10l.94 2.06.94-2.06 2.06-.94-2.06-.94-.94-2.06-.94 2.06-2.06.94z\"/><path d=\"M17.41 7.96l-1.37-1.37c-.4-.4-.92-.59-1.43-.59-.52 0-1.04.2-1.43.59L10.3 9.45l-7.72 7.72c-.78.78-.78 2.05 0 2.83L4 21.41c.39.39.9.59 1.41.59.51 0 1.02-.2 1.41-.59l7.78-7.78 2.81-2.81c.8-.78.8-2.07 0-2.86zM5.41 20L4 18.59l7.72-7.72 1.47 1.35L5.41 20z\"/>\n",
              "  </svg>\n",
              "      </button>\n",
              "      \n",
              "  <style>\n",
              "    .colab-df-container {\n",
              "      display:flex;\n",
              "      flex-wrap:wrap;\n",
              "      gap: 12px;\n",
              "    }\n",
              "\n",
              "    .colab-df-convert {\n",
              "      background-color: #E8F0FE;\n",
              "      border: none;\n",
              "      border-radius: 50%;\n",
              "      cursor: pointer;\n",
              "      display: none;\n",
              "      fill: #1967D2;\n",
              "      height: 32px;\n",
              "      padding: 0 0 0 0;\n",
              "      width: 32px;\n",
              "    }\n",
              "\n",
              "    .colab-df-convert:hover {\n",
              "      background-color: #E2EBFA;\n",
              "      box-shadow: 0px 1px 2px rgba(60, 64, 67, 0.3), 0px 1px 3px 1px rgba(60, 64, 67, 0.15);\n",
              "      fill: #174EA6;\n",
              "    }\n",
              "\n",
              "    [theme=dark] .colab-df-convert {\n",
              "      background-color: #3B4455;\n",
              "      fill: #D2E3FC;\n",
              "    }\n",
              "\n",
              "    [theme=dark] .colab-df-convert:hover {\n",
              "      background-color: #434B5C;\n",
              "      box-shadow: 0px 1px 3px 1px rgba(0, 0, 0, 0.15);\n",
              "      filter: drop-shadow(0px 1px 2px rgba(0, 0, 0, 0.3));\n",
              "      fill: #FFFFFF;\n",
              "    }\n",
              "  </style>\n",
              "\n",
              "      <script>\n",
              "        const buttonEl =\n",
              "          document.querySelector('#df-a5a55425-6bed-4cef-9427-02c8ac9e19ab button.colab-df-convert');\n",
              "        buttonEl.style.display =\n",
              "          google.colab.kernel.accessAllowed ? 'block' : 'none';\n",
              "\n",
              "        async function convertToInteractive(key) {\n",
              "          const element = document.querySelector('#df-a5a55425-6bed-4cef-9427-02c8ac9e19ab');\n",
              "          const dataTable =\n",
              "            await google.colab.kernel.invokeFunction('convertToInteractive',\n",
              "                                                     [key], {});\n",
              "          if (!dataTable) return;\n",
              "\n",
              "          const docLinkHtml = 'Like what you see? Visit the ' +\n",
              "            '<a target=\"_blank\" href=https://colab.research.google.com/notebooks/data_table.ipynb>data table notebook</a>'\n",
              "            + ' to learn more about interactive tables.';\n",
              "          element.innerHTML = '';\n",
              "          dataTable['output_type'] = 'display_data';\n",
              "          await google.colab.output.renderOutput(dataTable, element);\n",
              "          const docLink = document.createElement('div');\n",
              "          docLink.innerHTML = docLinkHtml;\n",
              "          element.appendChild(docLink);\n",
              "        }\n",
              "      </script>\n",
              "    </div>\n",
              "  </div>\n",
              "  "
            ],
            "text/plain": [
              "  category tech1  ...                                    imageURLHighRes rankNumber\n",
              "0       []        ...                                                 []  2938573.0\n",
              "1       []        ...                                                 []   872854.0\n",
              "2       []        ...                                                 []   956696.0\n",
              "3       []        ...  [https://images-na.ssl-images-amazon.com/image...  1870258.0\n",
              "4       []        ...  [https://images-na.ssl-images-amazon.com/image...    67701.0\n",
              "\n",
              "[5 rows x 20 columns]"
            ]
          },
          "metadata": {},
          "execution_count": 88
        }
      ],
      "source": [
        "metadata[\"rankNumber\"] = pd.to_numeric(metadata[\"rank\"].str.split().str[0].str.split(\",\").str.join(''), downcast='signed', errors='coerce')\n",
        "metadata.head()"
      ],
      "id": "0FRn-pgQKDwv"
    },
    {
      "cell_type": "code",
      "execution_count": 5,
      "metadata": {
        "colab": {
          "base_uri": "https://localhost:8080/",
          "height": 206
        },
        "id": "DOcCl5MFKDww",
        "outputId": "46f3f6c6-f156-4432-b95c-3d2b55c8980e"
      },
      "outputs": [
        {
          "output_type": "execute_result",
          "data": {
            "text/html": [
              "\n",
              "  <div id=\"df-16b380f6-40f3-41e9-aeb2-4b9e9eb7d448\">\n",
              "    <div class=\"colab-df-container\">\n",
              "      <div>\n",
              "<style scoped>\n",
              "    .dataframe tbody tr th:only-of-type {\n",
              "        vertical-align: middle;\n",
              "    }\n",
              "\n",
              "    .dataframe tbody tr th {\n",
              "        vertical-align: top;\n",
              "    }\n",
              "\n",
              "    .dataframe thead th {\n",
              "        text-align: right;\n",
              "    }\n",
              "</style>\n",
              "<table border=\"1\" class=\"dataframe\">\n",
              "  <thead>\n",
              "    <tr style=\"text-align: right;\">\n",
              "      <th></th>\n",
              "      <th>asin</th>\n",
              "      <th>reviewerID</th>\n",
              "      <th>overall</th>\n",
              "      <th>unixReviewTime</th>\n",
              "    </tr>\n",
              "  </thead>\n",
              "  <tbody>\n",
              "    <tr>\n",
              "      <th>0</th>\n",
              "      <td>0143026860</td>\n",
              "      <td>A1V6B6TNIC10QE</td>\n",
              "      <td>1.0</td>\n",
              "      <td>1424304000</td>\n",
              "    </tr>\n",
              "    <tr>\n",
              "      <th>1</th>\n",
              "      <td>0143026860</td>\n",
              "      <td>A2F5GHSXFQ0W6J</td>\n",
              "      <td>4.0</td>\n",
              "      <td>1418860800</td>\n",
              "    </tr>\n",
              "    <tr>\n",
              "      <th>2</th>\n",
              "      <td>0143026860</td>\n",
              "      <td>A1572GUYS7DGSR</td>\n",
              "      <td>4.0</td>\n",
              "      <td>1407628800</td>\n",
              "    </tr>\n",
              "    <tr>\n",
              "      <th>3</th>\n",
              "      <td>0143026860</td>\n",
              "      <td>A1PSGLFK1NSVO</td>\n",
              "      <td>5.0</td>\n",
              "      <td>1362960000</td>\n",
              "    </tr>\n",
              "    <tr>\n",
              "      <th>4</th>\n",
              "      <td>0143026860</td>\n",
              "      <td>A6IKXKZMTKGSC</td>\n",
              "      <td>5.0</td>\n",
              "      <td>1324771200</td>\n",
              "    </tr>\n",
              "  </tbody>\n",
              "</table>\n",
              "</div>\n",
              "      <button class=\"colab-df-convert\" onclick=\"convertToInteractive('df-16b380f6-40f3-41e9-aeb2-4b9e9eb7d448')\"\n",
              "              title=\"Convert this dataframe to an interactive table.\"\n",
              "              style=\"display:none;\">\n",
              "        \n",
              "  <svg xmlns=\"http://www.w3.org/2000/svg\" height=\"24px\"viewBox=\"0 0 24 24\"\n",
              "       width=\"24px\">\n",
              "    <path d=\"M0 0h24v24H0V0z\" fill=\"none\"/>\n",
              "    <path d=\"M18.56 5.44l.94 2.06.94-2.06 2.06-.94-2.06-.94-.94-2.06-.94 2.06-2.06.94zm-11 1L8.5 8.5l.94-2.06 2.06-.94-2.06-.94L8.5 2.5l-.94 2.06-2.06.94zm10 10l.94 2.06.94-2.06 2.06-.94-2.06-.94-.94-2.06-.94 2.06-2.06.94z\"/><path d=\"M17.41 7.96l-1.37-1.37c-.4-.4-.92-.59-1.43-.59-.52 0-1.04.2-1.43.59L10.3 9.45l-7.72 7.72c-.78.78-.78 2.05 0 2.83L4 21.41c.39.39.9.59 1.41.59.51 0 1.02-.2 1.41-.59l7.78-7.78 2.81-2.81c.8-.78.8-2.07 0-2.86zM5.41 20L4 18.59l7.72-7.72 1.47 1.35L5.41 20z\"/>\n",
              "  </svg>\n",
              "      </button>\n",
              "      \n",
              "  <style>\n",
              "    .colab-df-container {\n",
              "      display:flex;\n",
              "      flex-wrap:wrap;\n",
              "      gap: 12px;\n",
              "    }\n",
              "\n",
              "    .colab-df-convert {\n",
              "      background-color: #E8F0FE;\n",
              "      border: none;\n",
              "      border-radius: 50%;\n",
              "      cursor: pointer;\n",
              "      display: none;\n",
              "      fill: #1967D2;\n",
              "      height: 32px;\n",
              "      padding: 0 0 0 0;\n",
              "      width: 32px;\n",
              "    }\n",
              "\n",
              "    .colab-df-convert:hover {\n",
              "      background-color: #E2EBFA;\n",
              "      box-shadow: 0px 1px 2px rgba(60, 64, 67, 0.3), 0px 1px 3px 1px rgba(60, 64, 67, 0.15);\n",
              "      fill: #174EA6;\n",
              "    }\n",
              "\n",
              "    [theme=dark] .colab-df-convert {\n",
              "      background-color: #3B4455;\n",
              "      fill: #D2E3FC;\n",
              "    }\n",
              "\n",
              "    [theme=dark] .colab-df-convert:hover {\n",
              "      background-color: #434B5C;\n",
              "      box-shadow: 0px 1px 3px 1px rgba(0, 0, 0, 0.15);\n",
              "      filter: drop-shadow(0px 1px 2px rgba(0, 0, 0, 0.3));\n",
              "      fill: #FFFFFF;\n",
              "    }\n",
              "  </style>\n",
              "\n",
              "      <script>\n",
              "        const buttonEl =\n",
              "          document.querySelector('#df-16b380f6-40f3-41e9-aeb2-4b9e9eb7d448 button.colab-df-convert');\n",
              "        buttonEl.style.display =\n",
              "          google.colab.kernel.accessAllowed ? 'block' : 'none';\n",
              "\n",
              "        async function convertToInteractive(key) {\n",
              "          const element = document.querySelector('#df-16b380f6-40f3-41e9-aeb2-4b9e9eb7d448');\n",
              "          const dataTable =\n",
              "            await google.colab.kernel.invokeFunction('convertToInteractive',\n",
              "                                                     [key], {});\n",
              "          if (!dataTable) return;\n",
              "\n",
              "          const docLinkHtml = 'Like what you see? Visit the ' +\n",
              "            '<a target=\"_blank\" href=https://colab.research.google.com/notebooks/data_table.ipynb>data table notebook</a>'\n",
              "            + ' to learn more about interactive tables.';\n",
              "          element.innerHTML = '';\n",
              "          dataTable['output_type'] = 'display_data';\n",
              "          await google.colab.output.renderOutput(dataTable, element);\n",
              "          const docLink = document.createElement('div');\n",
              "          docLink.innerHTML = docLinkHtml;\n",
              "          element.appendChild(docLink);\n",
              "        }\n",
              "      </script>\n",
              "    </div>\n",
              "  </div>\n",
              "  "
            ],
            "text/plain": [
              "         asin      reviewerID  overall  unixReviewTime\n",
              "0  0143026860  A1V6B6TNIC10QE      1.0      1424304000\n",
              "1  0143026860  A2F5GHSXFQ0W6J      4.0      1418860800\n",
              "2  0143026860  A1572GUYS7DGSR      4.0      1407628800\n",
              "3  0143026860   A1PSGLFK1NSVO      5.0      1362960000\n",
              "4  0143026860   A6IKXKZMTKGSC      5.0      1324771200"
            ]
          },
          "metadata": {},
          "execution_count": 5
        }
      ],
      "source": [
        "ratings.head()"
      ],
      "id": "DOcCl5MFKDww"
    },
    {
      "cell_type": "markdown",
      "metadata": {
        "id": "C0fuxUFZKDwx"
      },
      "source": [
        "## 資料整理"
      ],
      "id": "C0fuxUFZKDwx"
    },
    {
      "cell_type": "code",
      "execution_count": 6,
      "metadata": {
        "id": "ma2b1DvMKDwy"
      },
      "outputs": [],
      "source": [
        "ratings['DATE'] = pd.to_datetime(ratings['unixReviewTime'], unit='s')"
      ],
      "id": "ma2b1DvMKDwy"
    },
    {
      "cell_type": "markdown",
      "metadata": {
        "id": "rSmJxEiAKDwz"
      },
      "source": [
        "## 資料切分"
      ],
      "id": "rSmJxEiAKDwz"
    },
    {
      "cell_type": "code",
      "execution_count": 7,
      "metadata": {
        "id": "z0TXehqgKDwz"
      },
      "outputs": [],
      "source": [
        "ratings_trainings = ratings[\n",
        "    (ratings['DATE'] < '2018-09-01')\n",
        "]\n",
        "ratings_testings = ratings[\n",
        "    (ratings['DATE'] >= '2018-09-01') & \n",
        "    (ratings['DATE'] <= '2018-09-30')\n",
        "]\n",
        "ratings_testings_by_user = ratings_testings.groupby('reviewerID').agg(list).reset_index()[['reviewerID', 'asin']].to_dict('records')\n",
        "ratings_testings_by_user = { rating['reviewerID']: rating['asin'] for rating in ratings_testings_by_user }\n",
        "users = list(ratings_testings_by_user.keys())"
      ],
      "id": "z0TXehqgKDwz"
    },
    {
      "cell_type": "markdown",
      "source": [
        "# 了解資料"
      ],
      "metadata": {
        "id": "yMhBhjFbMuVH"
      },
      "id": "yMhBhjFbMuVH"
    },
    {
      "cell_type": "markdown",
      "source": [
        "\n",
        "\n",
        "1. 測試集中有沒有歷史資料的新客戶。[考量沒歷史資料者怎麼分析]\n",
        "2. 即使有歷史資料，單人的購買數量基本不多\n",
        "3. 訓練資料從2000-2018，測試資料只有2018-0901(一個月\n",
        "4. 從訓練資料可看出2017-2018年，評分median為5分者，通常為熱銷款[***]\n",
        "5. (無品牌|'TIGI')似乎受大家歡迎[***]\n",
        "\n",
        "\n",
        "\n"
      ],
      "metadata": {
        "id": "2nqiax1oOcUN"
      },
      "id": "2nqiax1oOcUN"
    },
    {
      "cell_type": "code",
      "source": [
        "import numpy as np\n",
        "from collections import defaultdict\n",
        "from matplotlib import pyplot as plt"
      ],
      "metadata": {
        "id": "J0mx1G96PyLv"
      },
      "id": "J0mx1G96PyLv",
      "execution_count": 8,
      "outputs": []
    },
    {
      "cell_type": "code",
      "source": [
        "# 使用者群分析-train\n",
        "\n",
        "attention_products_train = defaultdict(int)\n",
        "products_overall_train  = defaultdict(lambda: 0)\n",
        "\n",
        "maxNumber = 0\n",
        "maxList  = []\n",
        "for i in range(len(ratings_trainings)):\n",
        "  user  = ratings_trainings.iloc[i,1]\n",
        "  product = ratings_trainings.iloc[i,0]\n",
        "  score  = ratings_trainings.iloc[i,2]\n",
        "  attention_products_train[product] += 1\n",
        "  products_overall_train[product] += score\n",
        "  if maxNumber < attention_products_train[product]:\n",
        "    maxList = [product]\n",
        "    maxNumber = attention_products_train[product]\n",
        "  elif maxNumber == attention_products_train[product]:\n",
        "    maxList.append(product)\n",
        "print(\"MaxNumber = {0}, List = {1}\".format(maxNumber, maxList))\n",
        "\n",
        "attention_list_train = defaultdict(list)\n",
        "for k, v in attention_products_train.items():\n",
        "  attention_list_train[v].append(k)\n",
        "\n",
        "attention_list_train\n",
        "\n",
        "\"\"\"\n",
        "             973: ['B000H6A02A', 'B00NT0AR7E'],\n",
        "             987: ['B00JVU3K9I'],\n",
        "             1006: ['B000URXP6E'],\n",
        "             1020: ['B000VV1YOY'],\n",
        "             1079: ['B00D3M0CRS'],\n",
        "             1080: ['B00G5L867C'],\n",
        "             1088: ['B0013NB7DW'],\n",
        "             1128: ['B000EG8HLE'],\n",
        "             1136: ['B0010ZBORW'],\n",
        "             1223: ['B008U1Q4DI'],\n",
        "             1329: ['B001AJ6YS2'],\n",
        "             1330: ['B000FED5DU'],\n",
        "             1538: ['B000050FDY'],\n",
        "             1770: ['B00BMVV3MK'],\n",
        "             1850: ['B0067F28ZW'],\n",
        "             1964: ['B00VF344X0'],\n",
        "             2190: ['B000WYJTZG'],\n",
        "             2234: ['B0012Y0ZG2'],\n",
        "             2249: ['B00005JS5C'],\n",
        "             2790: ['B006IB5T4W'],\n",
        "             2959: ['B00W259T7G'],\n",
        "             4197: ['B01DKQAXC0'],\n",
        "             4544: ['B001QY8QXM'],\n",
        "             4792: ['1620213982'],\n",
        "             8341: ['B000GLRREU'],\n",
        "             8672: ['B000FOI48G']})\n",
        "\"\"\""
      ],
      "metadata": {
        "id": "bzJQXFb5g2Ym"
      },
      "id": "bzJQXFb5g2Ym",
      "execution_count": null,
      "outputs": []
    },
    {
      "cell_type": "code",
      "source": [
        "# 新使用者群分析\n",
        "new_users = list(set(ratings_testings[\"reviewerID\"]) - set(ratings_trainings[\"reviewerID\"]))\n",
        "print(\"new users number: \",len(new_users))\n",
        "attention_products = defaultdict(int)\n",
        "products_overall  = defaultdict(lambda: 0)\n",
        "\n",
        "maxNumber = 0\n",
        "maxList  = []\n",
        "for i in range(len(ratings_testings)):\n",
        "  user  = ratings_testings.iloc[i,1]\n",
        "  product = ratings_testings.iloc[i,0]\n",
        "  score  = ratings_testings.iloc[i,2]\n",
        "  if user in new_users:\n",
        "    attention_products[product] += 1\n",
        "    products_overall[product] += score\n",
        "    if maxNumber < attention_products[product]:\n",
        "      maxList = [product]\n",
        "      maxNumber = attention_products[product]\n",
        "    elif maxNumber == attention_products[product]:\n",
        "      maxList.append(product)\n",
        "\n",
        "print(\"MaxNumber = {0}, List = {1}\".format(maxNumber, maxList))\n",
        "\n",
        "attention_list = defaultdict(list)\n",
        "for k, v in attention_products.items():\n",
        "  attention_list[v].append(k)\n",
        "\n",
        "attention_list\n",
        "\n",
        "\"\"\"\n",
        "             4: ['B01AMOTPI6',\n",
        "              'B01C74U1UU',\n",
        "              'B01CW24JXC',\n",
        "              'B01DXFHFX8',\n",
        "              'B01GLA54SA',\n",
        "              'B01H3IVSAC'],\n",
        "             5: ['B01C4ZAPGM',\n",
        "              'B01CTIJEIY',\n",
        "              'B01CX5KCIE',\n",
        "              'B01DFHDMS6',\n",
        "              'B01FT6TMQM'],\n",
        "             6: ['B01CD7JK9E', 'B01E7UKR38', 'B01ES87TOY'],\n",
        "             7: ['B0195R1FT8', 'B01AVJCDYA'],\n",
        "             9: ['B018WCT01C', 'B01FWDHKPC'],\n",
        "             10: ['B01FWP41H0'],\n",
        "             13: ['B01CJNZKZK'],\n",
        "             14: ['B01ENS6XDC'],\n",
        "             48: ['B01DKQAXC0']})\n",
        "\n",
        "\"\"\"\n"
      ],
      "metadata": {
        "id": "d79zk6k8hEwZ"
      },
      "id": "d79zk6k8hEwZ",
      "execution_count": null,
      "outputs": []
    },
    {
      "cell_type": "code",
      "source": [
        "ratings_testings['year'] = ratings_testings[\"DATE\"].dt.year\n",
        "ratings_trainings['year'] = ratings_trainings[\"DATE\"].dt.year\n",
        "\n",
        "ratings_testings.head()"
      ],
      "metadata": {
        "colab": {
          "base_uri": "https://localhost:8080/",
          "height": 414
        },
        "id": "jLLOUkRnVZw2",
        "outputId": "5e247d09-827b-4413-fcb4-d31ca3bb33ba"
      },
      "id": "jLLOUkRnVZw2",
      "execution_count": 11,
      "outputs": [
        {
          "output_type": "stream",
          "name": "stderr",
          "text": [
            "/usr/local/lib/python3.7/dist-packages/ipykernel_launcher.py:1: SettingWithCopyWarning: \n",
            "A value is trying to be set on a copy of a slice from a DataFrame.\n",
            "Try using .loc[row_indexer,col_indexer] = value instead\n",
            "\n",
            "See the caveats in the documentation: https://pandas.pydata.org/pandas-docs/stable/user_guide/indexing.html#returning-a-view-versus-a-copy\n",
            "  \"\"\"Entry point for launching an IPython kernel.\n",
            "/usr/local/lib/python3.7/dist-packages/ipykernel_launcher.py:2: SettingWithCopyWarning: \n",
            "A value is trying to be set on a copy of a slice from a DataFrame.\n",
            "Try using .loc[row_indexer,col_indexer] = value instead\n",
            "\n",
            "See the caveats in the documentation: https://pandas.pydata.org/pandas-docs/stable/user_guide/indexing.html#returning-a-view-versus-a-copy\n",
            "  \n"
          ]
        },
        {
          "output_type": "execute_result",
          "data": {
            "text/html": [
              "\n",
              "  <div id=\"df-5fea3b1a-d357-4a03-93a3-318e5467a6a1\">\n",
              "    <div class=\"colab-df-container\">\n",
              "      <div>\n",
              "<style scoped>\n",
              "    .dataframe tbody tr th:only-of-type {\n",
              "        vertical-align: middle;\n",
              "    }\n",
              "\n",
              "    .dataframe tbody tr th {\n",
              "        vertical-align: top;\n",
              "    }\n",
              "\n",
              "    .dataframe thead th {\n",
              "        text-align: right;\n",
              "    }\n",
              "</style>\n",
              "<table border=\"1\" class=\"dataframe\">\n",
              "  <thead>\n",
              "    <tr style=\"text-align: right;\">\n",
              "      <th></th>\n",
              "      <th>asin</th>\n",
              "      <th>reviewerID</th>\n",
              "      <th>overall</th>\n",
              "      <th>unixReviewTime</th>\n",
              "      <th>DATE</th>\n",
              "      <th>year</th>\n",
              "    </tr>\n",
              "  </thead>\n",
              "  <tbody>\n",
              "    <tr>\n",
              "      <th>234795</th>\n",
              "      <td>B01CJNZKZK</td>\n",
              "      <td>A38KP6TI3BUIM6</td>\n",
              "      <td>1.0</td>\n",
              "      <td>1536192000</td>\n",
              "      <td>2018-09-06</td>\n",
              "      <td>2018</td>\n",
              "    </tr>\n",
              "    <tr>\n",
              "      <th>234796</th>\n",
              "      <td>B01CJNZKZK</td>\n",
              "      <td>A2H7VSYLKGKLLJ</td>\n",
              "      <td>1.0</td>\n",
              "      <td>1535932800</td>\n",
              "      <td>2018-09-03</td>\n",
              "      <td>2018</td>\n",
              "    </tr>\n",
              "    <tr>\n",
              "      <th>234797</th>\n",
              "      <td>B01CJNZKZK</td>\n",
              "      <td>A1119JJ37ZLB8R</td>\n",
              "      <td>5.0</td>\n",
              "      <td>1535932800</td>\n",
              "      <td>2018-09-03</td>\n",
              "      <td>2018</td>\n",
              "    </tr>\n",
              "    <tr>\n",
              "      <th>240438</th>\n",
              "      <td>B01DKQAXC0</td>\n",
              "      <td>A1FKUBRPLG6Y8I</td>\n",
              "      <td>5.0</td>\n",
              "      <td>1537401600</td>\n",
              "      <td>2018-09-20</td>\n",
              "      <td>2018</td>\n",
              "    </tr>\n",
              "    <tr>\n",
              "      <th>240439</th>\n",
              "      <td>B01DKQAXC0</td>\n",
              "      <td>A2WX2YLLHJDLX7</td>\n",
              "      <td>5.0</td>\n",
              "      <td>1537315200</td>\n",
              "      <td>2018-09-19</td>\n",
              "      <td>2018</td>\n",
              "    </tr>\n",
              "  </tbody>\n",
              "</table>\n",
              "</div>\n",
              "      <button class=\"colab-df-convert\" onclick=\"convertToInteractive('df-5fea3b1a-d357-4a03-93a3-318e5467a6a1')\"\n",
              "              title=\"Convert this dataframe to an interactive table.\"\n",
              "              style=\"display:none;\">\n",
              "        \n",
              "  <svg xmlns=\"http://www.w3.org/2000/svg\" height=\"24px\"viewBox=\"0 0 24 24\"\n",
              "       width=\"24px\">\n",
              "    <path d=\"M0 0h24v24H0V0z\" fill=\"none\"/>\n",
              "    <path d=\"M18.56 5.44l.94 2.06.94-2.06 2.06-.94-2.06-.94-.94-2.06-.94 2.06-2.06.94zm-11 1L8.5 8.5l.94-2.06 2.06-.94-2.06-.94L8.5 2.5l-.94 2.06-2.06.94zm10 10l.94 2.06.94-2.06 2.06-.94-2.06-.94-.94-2.06-.94 2.06-2.06.94z\"/><path d=\"M17.41 7.96l-1.37-1.37c-.4-.4-.92-.59-1.43-.59-.52 0-1.04.2-1.43.59L10.3 9.45l-7.72 7.72c-.78.78-.78 2.05 0 2.83L4 21.41c.39.39.9.59 1.41.59.51 0 1.02-.2 1.41-.59l7.78-7.78 2.81-2.81c.8-.78.8-2.07 0-2.86zM5.41 20L4 18.59l7.72-7.72 1.47 1.35L5.41 20z\"/>\n",
              "  </svg>\n",
              "      </button>\n",
              "      \n",
              "  <style>\n",
              "    .colab-df-container {\n",
              "      display:flex;\n",
              "      flex-wrap:wrap;\n",
              "      gap: 12px;\n",
              "    }\n",
              "\n",
              "    .colab-df-convert {\n",
              "      background-color: #E8F0FE;\n",
              "      border: none;\n",
              "      border-radius: 50%;\n",
              "      cursor: pointer;\n",
              "      display: none;\n",
              "      fill: #1967D2;\n",
              "      height: 32px;\n",
              "      padding: 0 0 0 0;\n",
              "      width: 32px;\n",
              "    }\n",
              "\n",
              "    .colab-df-convert:hover {\n",
              "      background-color: #E2EBFA;\n",
              "      box-shadow: 0px 1px 2px rgba(60, 64, 67, 0.3), 0px 1px 3px 1px rgba(60, 64, 67, 0.15);\n",
              "      fill: #174EA6;\n",
              "    }\n",
              "\n",
              "    [theme=dark] .colab-df-convert {\n",
              "      background-color: #3B4455;\n",
              "      fill: #D2E3FC;\n",
              "    }\n",
              "\n",
              "    [theme=dark] .colab-df-convert:hover {\n",
              "      background-color: #434B5C;\n",
              "      box-shadow: 0px 1px 3px 1px rgba(0, 0, 0, 0.15);\n",
              "      filter: drop-shadow(0px 1px 2px rgba(0, 0, 0, 0.3));\n",
              "      fill: #FFFFFF;\n",
              "    }\n",
              "  </style>\n",
              "\n",
              "      <script>\n",
              "        const buttonEl =\n",
              "          document.querySelector('#df-5fea3b1a-d357-4a03-93a3-318e5467a6a1 button.colab-df-convert');\n",
              "        buttonEl.style.display =\n",
              "          google.colab.kernel.accessAllowed ? 'block' : 'none';\n",
              "\n",
              "        async function convertToInteractive(key) {\n",
              "          const element = document.querySelector('#df-5fea3b1a-d357-4a03-93a3-318e5467a6a1');\n",
              "          const dataTable =\n",
              "            await google.colab.kernel.invokeFunction('convertToInteractive',\n",
              "                                                     [key], {});\n",
              "          if (!dataTable) return;\n",
              "\n",
              "          const docLinkHtml = 'Like what you see? Visit the ' +\n",
              "            '<a target=\"_blank\" href=https://colab.research.google.com/notebooks/data_table.ipynb>data table notebook</a>'\n",
              "            + ' to learn more about interactive tables.';\n",
              "          element.innerHTML = '';\n",
              "          dataTable['output_type'] = 'display_data';\n",
              "          await google.colab.output.renderOutput(dataTable, element);\n",
              "          const docLink = document.createElement('div');\n",
              "          docLink.innerHTML = docLinkHtml;\n",
              "          element.appendChild(docLink);\n",
              "        }\n",
              "      </script>\n",
              "    </div>\n",
              "  </div>\n",
              "  "
            ],
            "text/plain": [
              "              asin      reviewerID  overall  unixReviewTime       DATE  year\n",
              "234795  B01CJNZKZK  A38KP6TI3BUIM6      1.0      1536192000 2018-09-06  2018\n",
              "234796  B01CJNZKZK  A2H7VSYLKGKLLJ      1.0      1535932800 2018-09-03  2018\n",
              "234797  B01CJNZKZK  A1119JJ37ZLB8R      5.0      1535932800 2018-09-03  2018\n",
              "240438  B01DKQAXC0  A1FKUBRPLG6Y8I      5.0      1537401600 2018-09-20  2018\n",
              "240439  B01DKQAXC0  A2WX2YLLHJDLX7      5.0      1537315200 2018-09-19  2018"
            ]
          },
          "metadata": {},
          "execution_count": 11
        }
      ]
    },
    {
      "cell_type": "code",
      "source": [
        "def drawProduct_buyline(productName, df):\n",
        "  tmp = df[df[\"asin\"] == productName]\n",
        "\n",
        "  record = {}\n",
        "  score = {}\n",
        "  for year in range(min(tmp[\"year\"]), max(tmp[\"year\"])+1):\n",
        "    a = tmp[tmp[\"year\"]==year]\n",
        "    # record[year] = [len(a), a[\"overall\"].median()]\n",
        "    record[year] = [len(a), a[\"overall\"].quantile(.4)]\n",
        "\n",
        "  tmp = pd.DataFrame.from_dict(record, orient='index').rename(columns={0:'Amount', 1:'Overall'})\n",
        "\n",
        "  plt.subplot(1, 2, 1)\n",
        "  tmp[\"Amount\"].plot(title=productName, figsize=(15,3))\n",
        "  plt.subplot(1, 2, 2)\n",
        "  tmp[\"Overall\"].plot(title=productName+\"-Median overall\", figsize=(15,3))\n",
        "  plt.show()\n",
        "\n",
        "drawProduct_buyline('B000FOI48G', ratings_trainings)\n",
        "drawProduct_buyline('B01DKQAXC0', ratings_trainings)"
      ],
      "metadata": {
        "colab": {
          "base_uri": "https://localhost:8080/",
          "height": 437
        },
        "id": "r7hqZXPmXuUh",
        "outputId": "37fe9f94-ebc0-4b20-dffb-41dd18600f77"
      },
      "id": "r7hqZXPmXuUh",
      "execution_count": 12,
      "outputs": [
        {
          "output_type": "display_data",
          "data": {
            "image/png": "[encoded data removed]",
            "text/plain": [
              "<Figure size 1080x216 with 2 Axes>"
            ]
          },
          "metadata": {
            "needs_background": "light"
          }
        },
        {
          "output_type": "display_data",
          "data": {
            "image/png": "[encoded data removed]",
            "text/plain": [
              "<Figure size 1080x216 with 2 Axes>"
            ]
          },
          "metadata": {
            "needs_background": "light"
          }
        }
      ]
    },
    {
      "cell_type": "code",
      "source": [
        "drawProduct_buyline('B01DKQAXC0', ratings_trainings)\n",
        "drawProduct_buyline('B01ENS6XDC', ratings_trainings)\n",
        "drawProduct_buyline('B01CJNZKZK', ratings_trainings)\n",
        "drawProduct_buyline('B01FWP41H0', ratings_trainings)\n",
        "drawProduct_buyline('B018WCT01C', ratings_trainings)\n",
        "drawProduct_buyline('B01FWDHKPC', ratings_trainings)\n",
        "drawProduct_buyline('B0195R1FT8', ratings_trainings)\n",
        "drawProduct_buyline('B01AVJCDYA', ratings_trainings)\n",
        "drawProduct_buyline('B01CD7JK9E', ratings_trainings)\n",
        "drawProduct_buyline('B01E7UKR38', ratings_trainings)\n",
        "drawProduct_buyline('B01ES87TOY', ratings_trainings)\n",
        "\n",
        "\"\"\"\n",
        "             5: ['B01C4ZAPGM',\n",
        "              'B01CTIJEIY',\n",
        "              'B01CX5KCIE',\n",
        "              'B01DFHDMS6',\n",
        "              'B01FT6TMQM'],\n",
        "             6: ['B01CD7JK9E', 'B01E7UKR38', 'B01ES87TOY'],\n",
        "             7: ['B0195R1FT8', 'B01AVJCDYA'],\n",
        "             9: ['B018WCT01C', 'B01FWDHKPC'],\n",
        "             10: ['B01FWP41H0'],\n",
        "             13: ['B01CJNZKZK'],\n",
        "             14: ['B01ENS6XDC'],\n",
        "             48: ['B01DKQAXC0']})\n",
        "\"\"\""
      ],
      "metadata": {
        "colab": {
          "base_uri": "https://localhost:8080/",
          "height": 1000
        },
        "id": "K-I8ExP4a1GH",
        "outputId": "51b305c4-8ca3-4af0-f536-2423e2b20529"
      },
      "id": "K-I8ExP4a1GH",
      "execution_count": 13,
      "outputs": [
        {
          "output_type": "display_data",
          "data": {
            "image/png": "[encoded data removed]",
            "text/plain": [
              "<Figure size 1080x216 with 2 Axes>"
            ]
          },
          "metadata": {
            "needs_background": "light"
          }
        },
        {
          "output_type": "display_data",
          "data": {
            "image/png": "[encoded data removed]",
            "text/plain": [
              "<Figure size 1080x216 with 2 Axes>"
            ]
          },
          "metadata": {
            "needs_background": "light"
          }
        },
        {
          "output_type": "display_data",
          "data": {
            "image/png": "[encoded data removed]",
            "text/plain": [
              "<Figure size 1080x216 with 2 Axes>"
            ]
          },
          "metadata": {
            "needs_background": "light"
          }
        },
        {
          "output_type": "display_data",
          "data": {
            "image/png": "[encoded data removed]",
            "text/plain": [
              "<Figure size 1080x216 with 2 Axes>"
            ]
          },
          "metadata": {
            "needs_background": "light"
          }
        },
        {
          "output_type": "display_data",
          "data": {
            "image/png": "[encoded data removed]",
            "text/plain": [
              "<Figure size 1080x216 with 2 Axes>"
            ]
          },
          "metadata": {
            "needs_background": "light"
          }
        },
        {
          "output_type": "display_data",
          "data": {
            "image/png": "[encoded data removed]",
            "text/plain": [
              "<Figure size 1080x216 with 2 Axes>"
            ]
          },
          "metadata": {
            "needs_background": "light"
          }
        },
        {
          "output_type": "display_data",
          "data": {
            "image/png": "[encoded data removed]",
            "text/plain": [
              "<Figure size 1080x216 with 2 Axes>"
            ]
          },
          "metadata": {
            "needs_background": "light"
          }
        },
        {
          "output_type": "display_data",
          "data": {
            "image/png": "[encoded data removed]",
            "text/plain": [
              "<Figure size 1080x216 with 2 Axes>"
            ]
          },
          "metadata": {
            "needs_background": "light"
          }
        },
        {
          "output_type": "display_data",
          "data": {
            "image/png": "[encoded data removed]",
            "text/plain": [
              "<Figure size 1080x216 with 2 Axes>"
            ]
          },
          "metadata": {
            "needs_background": "light"
          }
        },
        {
          "output_type": "display_data",
          "data": {
            "image/png": "[encoded data removed]",
            "text/plain": [
              "<Figure size 1080x216 with 2 Axes>"
            ]
          },
          "metadata": {
            "needs_background": "light"
          }
        },
        {
          "output_type": "display_data",
          "data": {
            "image/png": "[encoded data removed]",
            "text/plain": [
              "<Figure size 1080x216 with 2 Axes>"
            ]
          },
          "metadata": {
            "needs_background": "light"
          }
        },
        {
          "output_type": "execute_result",
          "data": {
            "application/vnd.google.colaboratory.intrinsic+json": {
              "type": "string"
            },
            "text/plain": [
              "\"\\n             5: ['B01C4ZAPGM',\\n              'B01CTIJEIY',\\n              'B01CX5KCIE',\\n              'B01DFHDMS6',\\n              'B01FT6TMQM'],\\n             6: ['B01CD7JK9E', 'B01E7UKR38', 'B01ES87TOY'],\\n             7: ['B0195R1FT8', 'B01AVJCDYA'],\\n             9: ['B018WCT01C', 'B01FWDHKPC'],\\n             10: ['B01FWP41H0'],\\n             13: ['B01CJNZKZK'],\\n             14: ['B01ENS6XDC'],\\n             48: ['B01DKQAXC0']})\\n\""
            ]
          },
          "metadata": {},
          "execution_count": 13
        }
      ]
    },
    {
      "cell_type": "code",
      "source": [
        "current_trainings = ratings_trainings[(ratings_trainings['DATE'] >= '2018-07-01') & (ratings_trainings['DATE'] <= '2018-09-01')]\n",
        "\n",
        "groups = current_trainings.groupby(\"asin\")\n",
        "# tmp   = groups[\"overall\"].median()\n",
        "tmp1   = groups[\"overall\"].quantile(.4)\n",
        "tmp2   = groups.size()\n",
        "current_score5_products = list(tmp1[(tmp1>=5) & (tmp2 >= 8)].index)\n",
        "print(\"current total = \"+str(len(current_score5_products)))\n",
        "\n",
        "# ====\n",
        "lastyear_trainings = ratings_trainings[(ratings_trainings['DATE'] >= '2017-08-01') & (ratings_trainings['DATE'] <= '2017-11-01')]\n",
        "\n",
        "groups = lastyear_trainings.groupby(\"asin\")\n",
        "# tmp   = groups[\"overall\"].median()\n",
        "tmp1   = groups[\"overall\"].quantile(.4)\n",
        "tmp2   = groups.size()\n",
        "lastyear_score5_products = list(tmp1[(tmp1>=5) & (tmp2 >= 12)].index)\n",
        "print(\"lastyear total = \"+str(len(lastyear_score5_products)))\n",
        "\n",
        "print(\"Overlap = \",len(set(current_score5_products) & set(lastyear_score5_products)))"
      ],
      "metadata": {
        "colab": {
          "base_uri": "https://localhost:8080/"
        },
        "id": "pV2UWRkahpxY",
        "outputId": "3e97057d-fbfc-4bdd-f3c0-79e8f5e98c12"
      },
      "id": "pV2UWRkahpxY",
      "execution_count": 14,
      "outputs": [
        {
          "output_type": "stream",
          "name": "stdout",
          "text": [
            "current total = 38\n",
            "lastyear total = 105\n",
            "Overlap =  15\n"
          ]
        }
      ]
    },
    {
      "cell_type": "code",
      "source": [
        "def score5_products(time1, time2, limitNumber, ratio, originalData, productList, weight):\n",
        "  tmpData = originalData[(originalData['DATE'] >= time1) & (originalData['DATE'] <= time2)]\n",
        "\n",
        "  groups = tmpData.groupby(\"asin\")\n",
        "  # tmp   = groups[\"overall\"].median()\n",
        "  tmp1   = groups[\"overall\"].quantile(ratio)\n",
        "  tmp2   = groups.size()\n",
        "  current_score5_products = list(tmp1[(tmp1>=5) & (tmp2 >= limitNumber)].index)\n",
        "  for product in current_score5_products:\n",
        "    productList[product] += weight\n",
        "  return current_score5_products\n",
        "\n",
        "def addweight(originalData, add_Products, keyType, productList, weight):\n",
        "  removeList = []\n",
        "  for asin in add_Products:\n",
        "    tmpData = originalData[originalData[\"asin\"] == asin]\n",
        "    if len(tmpData) == 0:\n",
        "      removeList.append(asin)\n",
        "      continue\n",
        "    for addproduct in tmpData[keyType].iloc[0]:\n",
        "      productList[addproduct] += weight\n",
        "  \n",
        "  for product in removeList:\n",
        "    del(productList[product])\n",
        "\n",
        "def getInfo_by_key(keyTpye, productList, subKeys=None):\n",
        "  final = []\n",
        "  for name, n in productList.items():\n",
        "    tmp = metadata[metadata[\"asin\"]==name][keyTpye]\n",
        "    if len(tmp) > 0:\n",
        "      if subKeys == None or tmp.iloc[0] in subKeys:\n",
        "        final.append([name, tmp.iloc[0]])\n",
        "  return final\n",
        "\n",
        "def detect_Number(checkList, attention_products):\n",
        "  totalN = sum([n for n in attention_products.values()])\n",
        "  total = len(attention_products)\n",
        "\n",
        "  getGoal = 0\n",
        "  getNumber = 0\n",
        "  for product in checkList:\n",
        "    if product[0] in attention_products:\n",
        "      getNumber += attention_products[product[0]]\n",
        "      getGoal += 1\n",
        "\n",
        "  print(\"{0} / {1} : {2} / {3} : {4}\".format(getGoal,total,getNumber,totalN,round(getNumber/totalN,2)))\n",
        "\n"
      ],
      "metadata": {
        "id": "GtljSXpuf4g2"
      },
      "id": "GtljSXpuf4g2",
      "execution_count": 129,
      "outputs": []
    },
    {
      "cell_type": "code",
      "source": [
        "productList = defaultdict(int)\n",
        "current_score5_products = score5_products('2018-07-01', '2018-09-01', 8, 0.4, ratings_trainings, productList, weight=20)\n",
        "# addweight(metadata, current_score5_products, \"also_buy\", productList, weight=10)\n",
        "# addweight(metadata, current_score5_products, \"also_view\", productList, weight=1)\n",
        "\n",
        "lastyear_score5_products = score5_products('2017-08-01', '2017-11-01', 12, 0.4, ratings_trainings, productList, weight=10)\n",
        "# addweight(metadata, current_score5_products, \"also_buy\", productList, weight=5)\n",
        "# addweight(metadata, current_score5_products, \"also_view\", productList, weight=1)\n",
        "\n",
        "#=== by weighting --> 沒有明顯差異\n",
        "# final = sorted([[name, n] for name, n in productList.items()], key=lambda x:-x[1])#[:20]\n",
        "\n",
        "#=== by rankNumber --> 排名90-100數量最多(奇怪)\n",
        "# final = getInfo_by_key(\"rankNumber\", productList)\n",
        "\n",
        "#=== by price --> 看不出來\n",
        "# final = getInfo_by_key(\"price\", productList)\n",
        "\n",
        "#=== by brand --> (無品牌|'TIGI')似乎受大家歡迎[###]\n",
        "final = getInfo_by_key(\"brand\", productList, subKeys=[\"\", 'TIGI'])\n",
        "\n",
        "final = sorted(final, key=lambda x:x[1])\n",
        "\n",
        "print(\"total predict products = \",len(final))\n",
        "detect_Number(final, attention_products)\n",
        "\n",
        "# 36 / 316 : 189 / 551 : 0.34 | 128\n",
        "# 7 / 316 : 80 / 551 : 0.15 | 10\n",
        "\n"
      ],
      "metadata": {
        "id": "Vrrc95cRsrOx",
        "outputId": "a71440e3-6c70-4786-e6be-e2d963ca33e6",
        "colab": {
          "base_uri": "https://localhost:8080/"
        }
      },
      "id": "Vrrc95cRsrOx",
      "execution_count": 130,
      "outputs": [
        {
          "output_type": "stream",
          "name": "stdout",
          "text": [
            "total predict products =  10\n",
            "7 / 316 : 80 / 551 : 0.15\n"
          ]
        }
      ]
    },
    {
      "cell_type": "code",
      "source": [
        ""
      ],
      "metadata": {
        "id": "j2i4895j9Iyo"
      },
      "id": "j2i4895j9Iyo",
      "execution_count": null,
      "outputs": []
    },
    {
      "cell_type": "code",
      "source": [
        "detect_Number(final[106:108], attention_products)\n",
        "detect_Number(final[:8], attention_products)"
      ],
      "metadata": {
        "id": "VTVsQTu86mFC",
        "outputId": "5da1e32b-fe48-4e0f-94c7-fff6303744ae",
        "colab": {
          "base_uri": "https://localhost:8080/"
        }
      },
      "id": "VTVsQTu86mFC",
      "execution_count": 127,
      "outputs": [
        {
          "output_type": "stream",
          "name": "stdout",
          "text": [
            "2 / 316 : 19 / 551 : 0.03\n",
            "5 / 316 : 61 / 551 : 0.11\n"
          ]
        }
      ]
    },
    {
      "cell_type": "code",
      "source": [
        "\n",
        "print(\"total predict products = \",len(final))\n",
        "for i in range(0,130,10):\n",
        "  print(i,\" -> \",i+10)\n",
        "  detect_Number(final[i:i+10], attention_products)"
      ],
      "metadata": {
        "id": "RW47pxYD3OE0",
        "outputId": "1f4e5645-1f74-4fba-8d77-8da029c7654b",
        "colab": {
          "base_uri": "https://localhost:8080/"
        }
      },
      "id": "RW47pxYD3OE0",
      "execution_count": 116,
      "outputs": [
        {
          "output_type": "stream",
          "name": "stdout",
          "text": [
            "total predict products =  127\n",
            "0  ->  10\n",
            "5 / 316 : 61 / 551 : 0.11\n",
            "10  ->  20\n",
            "2 / 316 : 14 / 551 : 0.03\n",
            "20  ->  30\n",
            "4 / 316 : 10 / 551 : 0.02\n",
            "30  ->  40\n",
            "2 / 316 : 10 / 551 : 0.02\n",
            "40  ->  50\n",
            "3 / 316 : 5 / 551 : 0.01\n",
            "50  ->  60\n",
            "2 / 316 : 11 / 551 : 0.02\n",
            "60  ->  70\n",
            "4 / 316 : 11 / 551 : 0.02\n",
            "70  ->  80\n",
            "2 / 316 : 6 / 551 : 0.01\n",
            "80  ->  90\n",
            "3 / 316 : 11 / 551 : 0.02\n",
            "90  ->  100\n",
            "3 / 316 : 17 / 551 : 0.03\n",
            "100  ->  110\n",
            "5 / 316 : 31 / 551 : 0.06\n",
            "110  ->  120\n",
            "1 / 316 : 2 / 551 : 0.0\n",
            "120  ->  130\n",
            "0 / 316 : 0 / 551 : 0.0\n"
          ]
        }
      ]
    },
    {
      "cell_type": "code",
      "source": [
        "[[name, metadata[metadata[\"asin\"]==name]][\"rankNumber\"].iloc[0]] for name, n in productList.items()]\n",
        "\n",
        "for name, n in productList.items():\n",
        "  print(metadata[\"asin\"==name][\"rankNumber\"])"
      ],
      "metadata": {
        "id": "iH3YsvZ-19dy"
      },
      "id": "iH3YsvZ-19dy",
      "execution_count": null,
      "outputs": []
    },
    {
      "cell_type": "code",
      "source": [
        "final[90:100]"
      ],
      "metadata": {
        "id": "bEo7jBWXz9Cb",
        "outputId": "eb279b01-aafd-4340-cbf0-64b90c517a86",
        "colab": {
          "base_uri": "https://localhost:8080/"
        }
      },
      "id": "bEo7jBWXz9Cb",
      "execution_count": 108,
      "outputs": [
        {
          "output_type": "execute_result",
          "data": {
            "text/plain": [
              "[['B01DKQAXC0', 152867.0],\n",
              " ['B00X8LM98Y', 155464.0],\n",
              " ['B001P2NRPC', 156001.0],\n",
              " ['B015ZTNN7W', 158083.0],\n",
              " ['B01CJNZKZK', 177226.0],\n",
              " ['B019809F9Y', 185717.0],\n",
              " ['B00FIUEIY6', 195114.0],\n",
              " ['B01D8030L4', 197777.0],\n",
              " ['B0189NOD4I', 202534.0],\n",
              " ['B017BJ8KFE', 203584.0]]"
            ]
          },
          "metadata": {},
          "execution_count": 108
        }
      ]
    },
    {
      "cell_type": "code",
      "source": [
        "'''\n",
        "             4: ['B01AMOTPI6',\n",
        "              'B01C74U1UU',\n",
        "              'B01CW24JXC',\n",
        "              'B01DXFHFX8',\n",
        "              'B01GLA54SA',\n",
        "              'B01H3IVSAC'],\n",
        "             5: ['B01C4ZAPGM',\n",
        "              'B01CTIJEIY',\n",
        "              'B01CX5KCIE',\n",
        "              'B01DFHDMS6',\n",
        "              'B01FT6TMQM'],\n",
        "             6: ['B01CD7JK9E', 'B01E7UKR38', 'B01ES87TOY'],\n",
        "             7: ['B0195R1FT8', 'B01AVJCDYA'],\n",
        "             9: ['B018WCT01C', 'B01FWDHKPC'],\n",
        "             10: ['B01FWP41H0'],\n",
        "             13: ['B01CJNZKZK'],\n",
        "             14: ['B01ENS6XDC'],\n",
        "             48: ['B01DKQAXC0']})\n",
        "'''"
      ],
      "metadata": {
        "id": "tD1pSPiFsk85"
      },
      "id": "tD1pSPiFsk85",
      "execution_count": null,
      "outputs": []
    },
    {
      "cell_type": "code",
      "source": [
        "ratings_trainings[ratings_trainings[\"reviewerID\"] == \"A13JU88JAHN72I\"]"
      ],
      "metadata": {
        "id": "kNAlL2c6LwWP"
      },
      "id": "kNAlL2c6LwWP",
      "execution_count": null,
      "outputs": []
    },
    {
      "cell_type": "code",
      "source": [
        "ratings_testings[ratings_testings[\"reviewerID\"] == \"A13JU88JAHN72I\"]"
      ],
      "metadata": {
        "id": "4-nvOtRnMHc9"
      },
      "id": "4-nvOtRnMHc9",
      "execution_count": null,
      "outputs": []
    },
    {
      "cell_type": "code",
      "source": [
        "tmp = metadata[(metadata[\"asin\"] == \"B009YDVB6Q\") | (metadata[\"asin\"] == \"B017I6B6GK\")]\n",
        "tmp.head()"
      ],
      "metadata": {
        "id": "75qIos7xKRkz"
      },
      "id": "75qIos7xKRkz",
      "execution_count": null,
      "outputs": []
    },
    {
      "cell_type": "code",
      "source": [
        "tmp[\"also_buy\"].iloc[1]"
      ],
      "metadata": {
        "id": "jmnJl70KN6nD"
      },
      "id": "jmnJl70KN6nD",
      "execution_count": null,
      "outputs": []
    },
    {
      "cell_type": "markdown",
      "metadata": {
        "id": "4j-PHbiZKDw0"
      },
      "source": [
        "## 產生推薦"
      ],
      "id": "4j-PHbiZKDw0"
    },
    {
      "cell_type": "code",
      "execution_count": 9,
      "metadata": {
        "colab": {
          "base_uri": "https://localhost:8080/"
        },
        "id": "B6UvXa1bKDw0",
        "outputId": "dec24828-3edf-4abd-ca06-ee921457b2fc"
      },
      "outputs": [
        {
          "output_type": "execute_result",
          "data": {
            "text/plain": [
              "{}"
            ]
          },
          "metadata": {},
          "execution_count": 9
        }
      ],
      "source": [
        "def recommender(training_data, users=[], k=10):\n",
        "    '''\n",
        "    * training_data: dataframe 輸入的訓練資料集（2018-09-01 以前資料）\n",
        "    * users: [] 需要被推薦的使用者\n",
        "    * k: int 每個使用者需要推薦的商品數\n",
        "    * recommendations: dict\n",
        "      {\n",
        "          使用者一： [推薦商品一, 推薦商品二, ...],\n",
        "          使用者二： [...], ...\n",
        "      }\n",
        "    '''\n",
        "    recommendations = {}\n",
        "    '''\n",
        "    Your Code\n",
        "    '''\n",
        "    return recommendations\n",
        "\n",
        "\n",
        "ratings_by_user = recommender(ratings_trainings, users)\n",
        "ratings_by_user"
      ],
      "id": "B6UvXa1bKDw0"
    },
    {
      "cell_type": "markdown",
      "metadata": {
        "id": "MPi0Jcn3KDw0"
      },
      "source": [
        "## 結果評估"
      ],
      "id": "MPi0Jcn3KDw0"
    },
    {
      "cell_type": "code",
      "execution_count": 10,
      "metadata": {
        "colab": {
          "base_uri": "https://localhost:8080/"
        },
        "id": "bT22lhPmKDw1",
        "outputId": "6727da6d-00dc-4fb3-c617-34e38f1bceee"
      },
      "outputs": [
        {
          "output_type": "execute_result",
          "data": {
            "text/plain": [
              "0.0"
            ]
          },
          "metadata": {},
          "execution_count": 10
        }
      ],
      "source": [
        "def evaluate(ratings_testings_by_user={}, ratings_by_user={}, method=None):\n",
        "    '''\n",
        "    * ratings_testings_by_user: dict 真實被購買的商品資料（2018-09-01 以後資料）\n",
        "    * ratings_by_user: dict 利用訓練資料學習的推薦商品\n",
        "    * method: str\n",
        "    * score: float\n",
        "    '''\n",
        "    total = 0\n",
        "    for d in ratings_testings_by_user:\n",
        "        if d in ratings_by_user:\n",
        "            total += len(set(ratings_by_user[d]) & set(ratings_testings_by_user[d]))\n",
        "\n",
        "    score = total / len(ratings_testings)\n",
        "    return score\n",
        "\n",
        "evaluate(ratings_testings_by_user, ratings_by_user)"
      ],
      "id": "bT22lhPmKDw1"
    },
    {
      "cell_type": "code",
      "execution_count": null,
      "metadata": {
        "id": "lnE96yn-KDw1"
      },
      "outputs": [],
      "source": [
        ""
      ],
      "id": "lnE96yn-KDw1"
    }
  ],
  "metadata": {
    "kernelspec": {
      "display_name": "Python 3",
      "language": "python",
      "name": "python3"
    },
    "language_info": {
      "codemirror_mode": {
        "name": "ipython",
        "version": 3
      },
      "file_extension": ".py",
      "mimetype": "text/x-python",
      "name": "python",
      "nbconvert_exporter": "python",
      "pygments_lexer": "ipython3",
      "version": "3.6.5"
    },
    "colab": {
      "name": "sample.ipynb",
      "provenance": []
    }
  },
  "nbformat": 4,
  "nbformat_minor": 5
}